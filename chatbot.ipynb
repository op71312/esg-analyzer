{
 "cells": [
  {
   "cell_type": "code",
   "execution_count": 4,
   "id": "0b662d9e",
   "metadata": {},
   "outputs": [],
   "source": [
    "from langchain.llms import Ollama\n",
    "from langchain.prompts import PromptTemplate\n",
    "from langchain.chains import LLMChain\n",
    "\n",
    "# โหลดโมเดล “unsloth” ผ่าน Ollama\n",
    "llm = Ollama(model=\"esg-analyzer\", temperature=0.0)"
   ]
  },
  {
   "cell_type": "code",
   "execution_count": 8,
   "id": "44b4b4d1",
   "metadata": {},
   "outputs": [],
   "source": [
    "template = \"\"\"\n",
    "คุณเป็นผู้ช่วยวิเคราะห์ข่าวหุ้นเชิง ESG ระดับผู้เชี่ยวชาญ\n",
    "\n",
    "News:\n",
    "{news}\n",
    "\n",
    "งานของคุณคือ\n",
    "1. สรุป sentiment ของข่าว (เลือกหนึ่งใน: บวก / กลาง / ลบ) พร้อมเหตุผลอย่างน้อย 2–3 ประโยค\n",
    "2. วิเคราะห์ว่า “ข่าวนี้จะส่งผลอย่างไรต่อ ESG Rating” ของบริษัทในข่าว \n",
    "   ให้ระบุว่า “ESG Rating จะ <สูงขึ้น/ลดลง/ไม่เปลี่ยน>” พร้อมอธิบายเหตุผลอย่างน้อย 2–3 ประโยค\n",
    "\n",
    "**โครงสร้างการตอบ (ตอบครบ 2 หัวข้อ):**\n",
    "\n",
    "Sentiment: <บวก/กลาง/ลบ>  \n",
    "เหตุผลสรุป (2–3 ประโยค):  \n",
    "- …  \n",
    "- …\n",
    "\n",
    "Impact on ESG Rating: <สูงขึ้น/ลดลง/ไม่เปลี่ยน>  \n",
    "เหตุผลประกอบ (2–3 ประโยค):  \n",
    "- …  \n",
    "- …\n",
    "\n",
    "**ตัวอย่าง (อย่า copy ตรงนี้ ให้โมเดลตอบเฉพาะส่วนโครงสร้างด้านบน):**  \n",
    "News: ปตท. เตรียมขยายลงทุนสีเขียว เพิ่มสัดส่วนพลังงานหมุนเวียน  \n",
    "- Sentiment: บวก  \n",
    "  เหตุผลสรุป (2–3 ประโยค):  \n",
    "    - ข่าวนี้ชี้ให้เห็นว่าปตท. ให้ความสำคัญกับธุรกิจสีเขียวอย่างจริงจัง  \n",
    "    - การเพิ่มสัดส่วนพลังงานสะอาดช่วยลดการปล่อยก๊าซเรือนกระจก  \n",
    "    - ทั้งยังเป็นสัญญาณเชิงบวกต่อผู้ลงทุนที่คำนึง ESG  \n",
    "- Impact on ESG Rating: สูงขึ้น  \n",
    "  เหตุผลประกอบ (2–3 ประโยค):  \n",
    "    - การลงทุนในพลังงานหมุนเวียนจะช่วยยกระดับคะแนนดัชนี ESG ด้านสิ่งแวดล้อมอย่างชัดเจน  \n",
    "    - โครงการใหม่จะช่วยลดความเสี่ยงเรื่องกฎระเบียบสิ่งแวดล้อม  \n",
    "    - ทำให้ผู้ถือหุ้นและนักวิเคราะห์มองว่า ESG Profile ของปตท. ดีขึ้น  \n",
    "\n",
    "**ให้ทำแบบนี้สำหรับข่าวต่อไปนี้ (อย่าลืมตอบให้ครบทุกหัวข้อ รูปแบบเดียวกับตัวอย่าง):**  \n",
    "{news}\n",
    "\"\"\""
   ]
  },
  {
   "cell_type": "code",
   "execution_count": 9,
   "id": "2b6fe7ab",
   "metadata": {},
   "outputs": [],
   "source": [
    "prompt = PromptTemplate(input_variables=[\"news\"], template=template)\n",
    "chain = LLMChain(llm=llm, prompt=prompt)"
   ]
  },
  {
   "cell_type": "code",
   "execution_count": 10,
   "id": "e83e6872",
   "metadata": {},
   "outputs": [
    {
     "name": "stdout",
     "output_type": "stream",
     "text": [
      "**Sentiment:** บวก\n",
      "\n",
      "**เหตุผลสรุป:**\n",
      "\n",
      "- ข่าวนี้ชี้ให้เห็นว่าปตท. ให้ความสำคัญกับธุรกิจสีเขียวอย่างจริงจัง\n",
      "- การลงทุนในพลังงานหมุนเวียนจะช่วยลดการปล่อยก๊าซเรือนกระจก\n",
      "- ทั้งยังเป็นสัญญาณเชิงบวกต่อผู้ลงทุนที่คำนึง ESG\n",
      "\n",
      "**Impact on ESG Rating:** สูงขึ้น\n",
      "\n",
      "**เหตุผลประกอบ:**\n",
      "\n",
      "- การลงทุนในพลังงานหมุนเวียนจะช่วยยกระดับคะแนนดัชนี ESG ด้านสิ่งแวดล้อมอย่างชัดเจน\n",
      "- โครงการใหม่จะช่วยลดความเสี่ยงเรื่องกฎระเบียบสิ่งแวดล้อม\n",
      "- ทำให้ผู้ถือหุ้นและนักวิเคราะห์มองว่า ESG Profile ของปตท. ดีขึ้น\n"
     ]
    }
   ],
   "source": [
    "# ทดสอบสักประโยคข่าว\n",
    "news_text = \"ปตท. ประกาศลงทุนในโซลาร์เซลล์เพื่อเสริมพลังงานสะอาด\"\n",
    "result = chain.run(news=news_text)\n",
    "print(result)"
   ]
  },
  {
   "cell_type": "code",
   "execution_count": null,
   "id": "0fb9aa03",
   "metadata": {},
   "outputs": [],
   "source": []
  }
 ],
 "metadata": {
  "kernelspec": {
   "display_name": ".venv",
   "language": "python",
   "name": "python3"
  },
  "language_info": {
   "codemirror_mode": {
    "name": "ipython",
    "version": 3
   },
   "file_extension": ".py",
   "mimetype": "text/x-python",
   "name": "python",
   "nbconvert_exporter": "python",
   "pygments_lexer": "ipython3",
   "version": "3.12.6"
  }
 },
 "nbformat": 4,
 "nbformat_minor": 5
}
